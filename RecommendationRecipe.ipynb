{
 "cells": [
  {
   "cell_type": "code",
   "execution_count": 1,
   "id": "587fe3ab",
   "metadata": {},
   "outputs": [
    {
     "name": "stdout",
     "output_type": "stream",
     "text": [
      "Requirement already satisfied: streamlit in c:\\users\\jasmine.thant\\appdata\\local\\anaconda3\\lib\\site-packages (1.41.1)\n",
      "Requirement already satisfied: rich<14,>=10.14.0 in c:\\users\\jasmine.thant\\appdata\\local\\anaconda3\\lib\\site-packages (from streamlit) (13.9.4)\n",
      "Requirement already satisfied: pyarrow>=7.0 in c:\\users\\jasmine.thant\\appdata\\local\\anaconda3\\lib\\site-packages (from streamlit) (18.1.0)\n",
      "Requirement already satisfied: click<9,>=7.0 in c:\\users\\jasmine.thant\\appdata\\local\\anaconda3\\lib\\site-packages (from streamlit) (8.0.4)\n",
      "Requirement already satisfied: tornado<7,>=6.0.3 in c:\\users\\jasmine.thant\\appdata\\local\\anaconda3\\lib\\site-packages (from streamlit) (6.4.1)\n",
      "Requirement already satisfied: requests<3,>=2.27 in c:\\users\\jasmine.thant\\appdata\\local\\anaconda3\\lib\\site-packages (from streamlit) (2.28.1)\n",
      "Requirement already satisfied: numpy<3,>=1.23 in c:\\users\\jasmine.thant\\appdata\\local\\anaconda3\\lib\\site-packages (from streamlit) (1.23.5)\n",
      "Requirement already satisfied: cachetools<6,>=4.0 in c:\\users\\jasmine.thant\\appdata\\local\\anaconda3\\lib\\site-packages (from streamlit) (5.5.0)\n",
      "Requirement already satisfied: pillow<12,>=7.1.0 in c:\\users\\jasmine.thant\\appdata\\local\\anaconda3\\lib\\site-packages (from streamlit) (10.3.0)\n",
      "Requirement already satisfied: packaging<25,>=20 in c:\\users\\jasmine.thant\\appdata\\local\\anaconda3\\lib\\site-packages (from streamlit) (22.0)\n",
      "Requirement already satisfied: typing-extensions<5,>=4.3.0 in c:\\users\\jasmine.thant\\appdata\\local\\anaconda3\\lib\\site-packages (from streamlit) (4.12.2)\n",
      "Requirement already satisfied: blinker<2,>=1.0.0 in c:\\users\\jasmine.thant\\appdata\\local\\anaconda3\\lib\\site-packages (from streamlit) (1.9.0)\n",
      "Requirement already satisfied: toml<2,>=0.10.1 in c:\\users\\jasmine.thant\\appdata\\local\\anaconda3\\lib\\site-packages (from streamlit) (0.10.2)\n",
      "Requirement already satisfied: watchdog<7,>=2.1.5 in c:\\users\\jasmine.thant\\appdata\\local\\anaconda3\\lib\\site-packages (from streamlit) (2.1.6)\n",
      "Requirement already satisfied: gitpython!=3.1.19,<4,>=3.0.7 in c:\\users\\jasmine.thant\\appdata\\local\\anaconda3\\lib\\site-packages (from streamlit) (3.1.44)\n",
      "Requirement already satisfied: altair<6,>=4.0 in c:\\users\\jasmine.thant\\appdata\\local\\anaconda3\\lib\\site-packages (from streamlit) (5.5.0)\n",
      "Requirement already satisfied: protobuf<6,>=3.20 in c:\\users\\jasmine.thant\\appdata\\local\\anaconda3\\lib\\site-packages (from streamlit) (5.27.3)\n",
      "Requirement already satisfied: pandas<3,>=1.4.0 in c:\\users\\jasmine.thant\\appdata\\local\\anaconda3\\lib\\site-packages (from streamlit) (1.5.3)\n",
      "Requirement already satisfied: tenacity<10,>=8.1.0 in c:\\users\\jasmine.thant\\appdata\\local\\anaconda3\\lib\\site-packages (from streamlit) (9.0.0)\n",
      "Requirement already satisfied: pydeck<1,>=0.8.0b4 in c:\\users\\jasmine.thant\\appdata\\local\\anaconda3\\lib\\site-packages (from streamlit) (0.9.1)\n",
      "Requirement already satisfied: jinja2 in c:\\users\\jasmine.thant\\appdata\\local\\anaconda3\\lib\\site-packages (from altair<6,>=4.0->streamlit) (3.1.2)\n",
      "Requirement already satisfied: jsonschema>=3.0 in c:\\users\\jasmine.thant\\appdata\\local\\anaconda3\\lib\\site-packages (from altair<6,>=4.0->streamlit) (4.19.2)\n",
      "Requirement already satisfied: narwhals>=1.14.2 in c:\\users\\jasmine.thant\\appdata\\local\\anaconda3\\lib\\site-packages (from altair<6,>=4.0->streamlit) (1.20.1)\n",
      "Requirement already satisfied: colorama in c:\\users\\jasmine.thant\\appdata\\local\\anaconda3\\lib\\site-packages (from click<9,>=7.0->streamlit) (0.4.6)\n",
      "Requirement already satisfied: gitdb<5,>=4.0.1 in c:\\users\\jasmine.thant\\appdata\\local\\anaconda3\\lib\\site-packages (from gitpython!=3.1.19,<4,>=3.0.7->streamlit) (4.0.12)\n",
      "Requirement already satisfied: python-dateutil>=2.8.1 in c:\\users\\jasmine.thant\\appdata\\local\\anaconda3\\lib\\site-packages (from pandas<3,>=1.4.0->streamlit) (2.8.2)\n",
      "Requirement already satisfied: pytz>=2020.1 in c:\\users\\jasmine.thant\\appdata\\local\\anaconda3\\lib\\site-packages (from pandas<3,>=1.4.0->streamlit) (2022.7)\n",
      "Requirement already satisfied: idna<4,>=2.5 in c:\\users\\jasmine.thant\\appdata\\local\\anaconda3\\lib\\site-packages (from requests<3,>=2.27->streamlit) (3.4)\n",
      "Requirement already satisfied: certifi>=2017.4.17 in c:\\users\\jasmine.thant\\appdata\\local\\anaconda3\\lib\\site-packages (from requests<3,>=2.27->streamlit) (2024.8.30)\n",
      "Requirement already satisfied: charset-normalizer<3,>=2 in c:\\users\\jasmine.thant\\appdata\\local\\anaconda3\\lib\\site-packages (from requests<3,>=2.27->streamlit) (2.0.4)\n",
      "Requirement already satisfied: urllib3<1.27,>=1.21.1 in c:\\users\\jasmine.thant\\appdata\\local\\anaconda3\\lib\\site-packages (from requests<3,>=2.27->streamlit) (1.26.14)\n",
      "Requirement already satisfied: markdown-it-py>=2.2.0 in c:\\users\\jasmine.thant\\appdata\\local\\anaconda3\\lib\\site-packages (from rich<14,>=10.14.0->streamlit) (3.0.0)\n",
      "Requirement already satisfied: pygments<3.0.0,>=2.13.0 in c:\\users\\jasmine.thant\\appdata\\local\\anaconda3\\lib\\site-packages (from rich<14,>=10.14.0->streamlit) (2.19.0)\n",
      "Requirement already satisfied: smmap<6,>=3.0.1 in c:\\users\\jasmine.thant\\appdata\\local\\anaconda3\\lib\\site-packages (from gitdb<5,>=4.0.1->gitpython!=3.1.19,<4,>=3.0.7->streamlit) (5.0.2)\n",
      "Requirement already satisfied: MarkupSafe>=2.0 in c:\\users\\jasmine.thant\\appdata\\local\\anaconda3\\lib\\site-packages (from jinja2->altair<6,>=4.0->streamlit) (2.1.1)\n",
      "Requirement already satisfied: jsonschema-specifications>=2023.03.6 in c:\\users\\jasmine.thant\\appdata\\local\\anaconda3\\lib\\site-packages (from jsonschema>=3.0->altair<6,>=4.0->streamlit) (2023.7.1)\n",
      "Requirement already satisfied: referencing>=0.28.4 in c:\\users\\jasmine.thant\\appdata\\local\\anaconda3\\lib\\site-packages (from jsonschema>=3.0->altair<6,>=4.0->streamlit) (0.30.2)\n",
      "Requirement already satisfied: rpds-py>=0.7.1 in c:\\users\\jasmine.thant\\appdata\\local\\anaconda3\\lib\\site-packages (from jsonschema>=3.0->altair<6,>=4.0->streamlit) (0.10.6)\n",
      "Requirement already satisfied: attrs>=22.2.0 in c:\\users\\jasmine.thant\\appdata\\local\\anaconda3\\lib\\site-packages (from jsonschema>=3.0->altair<6,>=4.0->streamlit) (23.1.0)\n",
      "Requirement already satisfied: mdurl~=0.1 in c:\\users\\jasmine.thant\\appdata\\local\\anaconda3\\lib\\site-packages (from markdown-it-py>=2.2.0->rich<14,>=10.14.0->streamlit) (0.1.2)\n",
      "Requirement already satisfied: six>=1.5 in c:\\users\\jasmine.thant\\appdata\\local\\anaconda3\\lib\\site-packages (from python-dateutil>=2.8.1->pandas<3,>=1.4.0->streamlit) (1.16.0)\n"
     ]
    }
   ],
   "source": [
    "!pip install streamlit"
   ]
  },
  {
   "cell_type": "code",
   "execution_count": 2,
   "id": "73c8131a",
   "metadata": {},
   "outputs": [],
   "source": [
    "import pandas as pd\n",
    "from sklearn.feature_extraction.text import TfidfVectorizer\n",
    "from sklearn.metrics.pairwise import cosine_similarity\n",
    "from sklearn.neighbors import NearestNeighbors\n",
    "import matplotlib.pyplot as plt\n",
    "import seaborn as sns\n",
    "from sklearn.neighbors import NearestNeighbors\n",
    "from scipy.sparse import csr_matrix"
   ]
  },
  {
   "cell_type": "code",
   "execution_count": 3,
   "id": "410cb6f0",
   "metadata": {},
   "outputs": [
    {
     "name": "stderr",
     "output_type": "stream",
     "text": [
      "C:\\Users\\jasmine.thant\\AppData\\Local\\Temp\\ipykernel_22016\\3004464232.py:8: SettingWithCopyWarning: \n",
      "A value is trying to be set on a copy of a slice from a DataFrame.\n",
      "Try using .loc[row_indexer,col_indexer] = value instead\n",
      "\n",
      "See the caveats in the documentation: https://pandas.pydata.org/pandas-docs/stable/user_guide/indexing.html#returning-a-view-versus-a-copy\n",
      "  recipe_data['ingredients'] = recipe_data['ingredients'].apply(lambda x: x.split(','))\n"
     ]
    },
    {
     "data": {
      "text/html": [
       "<div>\n",
       "<style scoped>\n",
       "    .dataframe tbody tr th:only-of-type {\n",
       "        vertical-align: middle;\n",
       "    }\n",
       "\n",
       "    .dataframe tbody tr th {\n",
       "        vertical-align: top;\n",
       "    }\n",
       "\n",
       "    .dataframe thead th {\n",
       "        text-align: right;\n",
       "    }\n",
       "</style>\n",
       "<table border=\"1\" class=\"dataframe\">\n",
       "  <thead>\n",
       "    <tr style=\"text-align: right;\">\n",
       "      <th></th>\n",
       "      <th>id</th>\n",
       "      <th>name</th>\n",
       "      <th>ingredients</th>\n",
       "      <th>minutes</th>\n",
       "      <th>tags</th>\n",
       "    </tr>\n",
       "  </thead>\n",
       "  <tbody>\n",
       "    <tr>\n",
       "      <th>0</th>\n",
       "      <td>137739</td>\n",
       "      <td>arriba   baked winter squash mexican style</td>\n",
       "      <td>[['winter squash',  'mexican seasoning',  'mix...</td>\n",
       "      <td>55</td>\n",
       "      <td>['60-minutes-or-less', 'time-to-make', 'course...</td>\n",
       "    </tr>\n",
       "    <tr>\n",
       "      <th>1</th>\n",
       "      <td>31490</td>\n",
       "      <td>a bit different  breakfast pizza</td>\n",
       "      <td>[['prepared pizza crust',  'sausage patty',  '...</td>\n",
       "      <td>30</td>\n",
       "      <td>['30-minutes-or-less', 'time-to-make', 'course...</td>\n",
       "    </tr>\n",
       "    <tr>\n",
       "      <th>2</th>\n",
       "      <td>112140</td>\n",
       "      <td>all in the kitchen  chili</td>\n",
       "      <td>[['ground beef',  'yellow onions',  'diced tom...</td>\n",
       "      <td>130</td>\n",
       "      <td>['time-to-make', 'course', 'preparation', 'mai...</td>\n",
       "    </tr>\n",
       "    <tr>\n",
       "      <th>3</th>\n",
       "      <td>59389</td>\n",
       "      <td>alouette  potatoes</td>\n",
       "      <td>[['spreadable cheese with garlic and herbs',  ...</td>\n",
       "      <td>45</td>\n",
       "      <td>['60-minutes-or-less', 'time-to-make', 'course...</td>\n",
       "    </tr>\n",
       "    <tr>\n",
       "      <th>4</th>\n",
       "      <td>44061</td>\n",
       "      <td>amish  tomato ketchup  for canning</td>\n",
       "      <td>[['tomato juice',  'apple cider vinegar',  'su...</td>\n",
       "      <td>190</td>\n",
       "      <td>['weeknight', 'time-to-make', 'course', 'main-...</td>\n",
       "    </tr>\n",
       "  </tbody>\n",
       "</table>\n",
       "</div>"
      ],
      "text/plain": [
       "       id                                        name  \\\n",
       "0  137739  arriba   baked winter squash mexican style   \n",
       "1   31490            a bit different  breakfast pizza   \n",
       "2  112140                   all in the kitchen  chili   \n",
       "3   59389                          alouette  potatoes   \n",
       "4   44061          amish  tomato ketchup  for canning   \n",
       "\n",
       "                                         ingredients  minutes  \\\n",
       "0  [['winter squash',  'mexican seasoning',  'mix...       55   \n",
       "1  [['prepared pizza crust',  'sausage patty',  '...       30   \n",
       "2  [['ground beef',  'yellow onions',  'diced tom...      130   \n",
       "3  [['spreadable cheese with garlic and herbs',  ...       45   \n",
       "4  [['tomato juice',  'apple cider vinegar',  'su...      190   \n",
       "\n",
       "                                                tags  \n",
       "0  ['60-minutes-or-less', 'time-to-make', 'course...  \n",
       "1  ['30-minutes-or-less', 'time-to-make', 'course...  \n",
       "2  ['time-to-make', 'course', 'preparation', 'mai...  \n",
       "3  ['60-minutes-or-less', 'time-to-make', 'course...  \n",
       "4  ['weeknight', 'time-to-make', 'course', 'main-...  "
      ]
     },
     "execution_count": 3,
     "metadata": {},
     "output_type": "execute_result"
    }
   ],
   "source": [
    "#Load the Receipe data\n",
    "recipes_df = pd.read_csv('/Recommendation_foods/food/RAW_recipes.csv')\n",
    "\n",
    "#Extract key recipe features\n",
    "recipe_data = recipes_df[['id', 'name', 'ingredients', 'minutes', 'tags']]\n",
    "\n",
    "#Clean up the ingredients column\n",
    "recipe_data['ingredients'] = recipe_data['ingredients'].apply(lambda x: x.split(','))\n",
    "\n",
    "#Preview the cleaned data\n",
    "recipe_data.head()"
   ]
  },
  {
   "cell_type": "code",
   "execution_count": 4,
   "id": "96531528",
   "metadata": {},
   "outputs": [
    {
     "name": "stderr",
     "output_type": "stream",
     "text": [
      "C:\\Users\\jasmine.thant\\AppData\\Local\\Temp\\ipykernel_22016\\2177818387.py:2: DtypeWarning: Columns (2,4) have mixed types. Specify dtype option on import or set low_memory=False.\n",
      "  user_ratings_cleaned = pd.read_csv(\"/Recommendation_foods/food/RAW_interactions.csv\")\n",
      "C:\\Users\\jasmine.thant\\AppData\\Local\\Temp\\ipykernel_22016\\2177818387.py:14: SettingWithCopyWarning: \n",
      "A value is trying to be set on a copy of a slice from a DataFrame.\n",
      "Try using .loc[row_indexer,col_indexer] = value instead\n",
      "\n",
      "See the caveats in the documentation: https://pandas.pydata.org/pandas-docs/stable/user_guide/indexing.html#returning-a-view-versus-a-copy\n",
      "  user_ratings_sampled['user_idx'] = user_ratings_sampled['user_id'].astype('category').cat.codes\n",
      "C:\\Users\\jasmine.thant\\AppData\\Local\\Temp\\ipykernel_22016\\2177818387.py:15: SettingWithCopyWarning: \n",
      "A value is trying to be set on a copy of a slice from a DataFrame.\n",
      "Try using .loc[row_indexer,col_indexer] = value instead\n",
      "\n",
      "See the caveats in the documentation: https://pandas.pydata.org/pandas-docs/stable/user_guide/indexing.html#returning-a-view-versus-a-copy\n",
      "  user_ratings_sampled['recipe_idx'] = user_ratings_sampled['recipe_id'].astype('category').cat.codes\n"
     ]
    }
   ],
   "source": [
    "#Load the interactions data\n",
    "user_ratings_cleaned = pd.read_csv(\"/Recommendation_foods/food/RAW_interactions.csv\")\n",
    "\n",
    "#Sample a small fraction of users and recipes for testing \n",
    "sampled_users = user_ratings_cleaned['user_id'].sample(frac=0.01, random_state=42).unique()\n",
    "sampled_recipes = user_ratings_cleaned['recipe_id'].sample(frac=0.01, random_state=42).unique()\n",
    "\n",
    "#Filter the user ratings DataFrame to include only the sampled users and recipes\n",
    "user_ratings_sampled = user_ratings_cleaned[user_ratings_cleaned['user_id'].isin(sampled_users) & \n",
    "                                            user_ratings_cleaned['recipe_id'].isin(sampled_recipes)]\n",
    "\n",
    "\n",
    "#Reindex user_id and recipe_id to continuous integers\n",
    "user_ratings_sampled['user_idx'] = user_ratings_sampled['user_id'].astype('category').cat.codes\n",
    "user_ratings_sampled['recipe_idx'] = user_ratings_sampled['recipe_id'].astype('category').cat.codes"
   ]
  },
  {
   "cell_type": "code",
   "execution_count": 5,
   "id": "8cbdc036",
   "metadata": {},
   "outputs": [],
   "source": [
    "#Check for duplicates\n",
    "duplicate_entries = user_ratings_sampled[user_ratings_sampled.duplicated(subset=['user_idx', 'recipe_idx'], keep=False)]\n",
    "\n",
    "#Aggregate duplicate entries by taking the mean rating for each user-recipe pair\n",
    "user_ratings_aggregated = user_ratings_sampled.groupby(['user_idx', 'recipe_idx']).agg({'rating': 'mean'}).reset_index()\n",
    "\n",
    "#Keep only the first rating for each user-recipe pair\n",
    "user_ratings_unique = user_ratings_sampled.drop_duplicates(subset=['user_idx', 'recipe_idx'], keep='first')"
   ]
  },
  {
   "cell_type": "code",
   "execution_count": 6,
   "id": "f0d5ccee",
   "metadata": {},
   "outputs": [
    {
     "data": {
      "text/html": [
       "<div>\n",
       "<style scoped>\n",
       "    .dataframe tbody tr th:only-of-type {\n",
       "        vertical-align: middle;\n",
       "    }\n",
       "\n",
       "    .dataframe tbody tr th {\n",
       "        vertical-align: top;\n",
       "    }\n",
       "\n",
       "    .dataframe thead th {\n",
       "        text-align: right;\n",
       "    }\n",
       "</style>\n",
       "<table border=\"1\" class=\"dataframe\">\n",
       "  <thead>\n",
       "    <tr style=\"text-align: right;\">\n",
       "      <th></th>\n",
       "      <th>user_id</th>\n",
       "      <th>recipe_id</th>\n",
       "      <th>date</th>\n",
       "      <th>rating</th>\n",
       "      <th>review</th>\n",
       "      <th>user_idx</th>\n",
       "      <th>recipe_idx</th>\n",
       "    </tr>\n",
       "  </thead>\n",
       "  <tbody>\n",
       "    <tr>\n",
       "      <th>60</th>\n",
       "      <td>49304.0</td>\n",
       "      <td>180132.0</td>\n",
       "      <td>13/02/2007</td>\n",
       "      <td>5.0</td>\n",
       "      <td>Delicious easy to make soup which we really en...</td>\n",
       "      <td>233</td>\n",
       "      <td>2331</td>\n",
       "    </tr>\n",
       "    <tr>\n",
       "      <th>77</th>\n",
       "      <td>58439.0</td>\n",
       "      <td>180132.0</td>\n",
       "      <td>09/06/2007</td>\n",
       "      <td>4.0</td>\n",
       "      <td>GREAT hearty chicken soup, TRUE!\\r\\nDoes make ...</td>\n",
       "      <td>306</td>\n",
       "      <td>2331</td>\n",
       "    </tr>\n",
       "    <tr>\n",
       "      <th>78</th>\n",
       "      <td>628951.0</td>\n",
       "      <td>180132.0</td>\n",
       "      <td>13/11/2007</td>\n",
       "      <td>5.0</td>\n",
       "      <td>Very good and tasty especially when your cravi...</td>\n",
       "      <td>1974</td>\n",
       "      <td>2331</td>\n",
       "    </tr>\n",
       "    <tr>\n",
       "      <th>428</th>\n",
       "      <td>870928.0</td>\n",
       "      <td>269690.0</td>\n",
       "      <td>28/02/2010</td>\n",
       "      <td>5.0</td>\n",
       "      <td>Loved this! Looking for something easy to cook...</td>\n",
       "      <td>2218</td>\n",
       "      <td>2944</td>\n",
       "    </tr>\n",
       "    <tr>\n",
       "      <th>545</th>\n",
       "      <td>58104.0</td>\n",
       "      <td>32129.0</td>\n",
       "      <td>02/12/2002</td>\n",
       "      <td>5.0</td>\n",
       "      <td>Quick and easy!\\r\\nI also added 1/2 cup of roa...</td>\n",
       "      <td>302</td>\n",
       "      <td>520</td>\n",
       "    </tr>\n",
       "  </tbody>\n",
       "</table>\n",
       "</div>"
      ],
      "text/plain": [
       "      user_id  recipe_id        date  rating  \\\n",
       "60    49304.0   180132.0  13/02/2007     5.0   \n",
       "77    58439.0   180132.0  09/06/2007     4.0   \n",
       "78   628951.0   180132.0  13/11/2007     5.0   \n",
       "428  870928.0   269690.0  28/02/2010     5.0   \n",
       "545   58104.0    32129.0  02/12/2002     5.0   \n",
       "\n",
       "                                                review  user_idx  recipe_idx  \n",
       "60   Delicious easy to make soup which we really en...       233        2331  \n",
       "77   GREAT hearty chicken soup, TRUE!\\r\\nDoes make ...       306        2331  \n",
       "78   Very good and tasty especially when your cravi...      1974        2331  \n",
       "428  Loved this! Looking for something easy to cook...      2218        2944  \n",
       "545  Quick and easy!\\r\\nI also added 1/2 cup of roa...       302         520  "
      ]
     },
     "execution_count": 6,
     "metadata": {},
     "output_type": "execute_result"
    }
   ],
   "source": [
    "#Preview the data\n",
    "user_ratings_unique.head()"
   ]
  },
  {
   "cell_type": "code",
   "execution_count": 7,
   "id": "f89561cd",
   "metadata": {},
   "outputs": [
    {
     "data": {
      "text/html": [
       "<style>#sk-container-id-1 {color: black;background-color: white;}#sk-container-id-1 pre{padding: 0;}#sk-container-id-1 div.sk-toggleable {background-color: white;}#sk-container-id-1 label.sk-toggleable__label {cursor: pointer;display: block;width: 100%;margin-bottom: 0;padding: 0.3em;box-sizing: border-box;text-align: center;}#sk-container-id-1 label.sk-toggleable__label-arrow:before {content: \"▸\";float: left;margin-right: 0.25em;color: #696969;}#sk-container-id-1 label.sk-toggleable__label-arrow:hover:before {color: black;}#sk-container-id-1 div.sk-estimator:hover label.sk-toggleable__label-arrow:before {color: black;}#sk-container-id-1 div.sk-toggleable__content {max-height: 0;max-width: 0;overflow: hidden;text-align: left;background-color: #f0f8ff;}#sk-container-id-1 div.sk-toggleable__content pre {margin: 0.2em;color: black;border-radius: 0.25em;background-color: #f0f8ff;}#sk-container-id-1 input.sk-toggleable__control:checked~div.sk-toggleable__content {max-height: 200px;max-width: 100%;overflow: auto;}#sk-container-id-1 input.sk-toggleable__control:checked~label.sk-toggleable__label-arrow:before {content: \"▾\";}#sk-container-id-1 div.sk-estimator input.sk-toggleable__control:checked~label.sk-toggleable__label {background-color: #d4ebff;}#sk-container-id-1 div.sk-label input.sk-toggleable__control:checked~label.sk-toggleable__label {background-color: #d4ebff;}#sk-container-id-1 input.sk-hidden--visually {border: 0;clip: rect(1px 1px 1px 1px);clip: rect(1px, 1px, 1px, 1px);height: 1px;margin: -1px;overflow: hidden;padding: 0;position: absolute;width: 1px;}#sk-container-id-1 div.sk-estimator {font-family: monospace;background-color: #f0f8ff;border: 1px dotted black;border-radius: 0.25em;box-sizing: border-box;margin-bottom: 0.5em;}#sk-container-id-1 div.sk-estimator:hover {background-color: #d4ebff;}#sk-container-id-1 div.sk-parallel-item::after {content: \"\";width: 100%;border-bottom: 1px solid gray;flex-grow: 1;}#sk-container-id-1 div.sk-label:hover label.sk-toggleable__label {background-color: #d4ebff;}#sk-container-id-1 div.sk-serial::before {content: \"\";position: absolute;border-left: 1px solid gray;box-sizing: border-box;top: 0;bottom: 0;left: 50%;z-index: 0;}#sk-container-id-1 div.sk-serial {display: flex;flex-direction: column;align-items: center;background-color: white;padding-right: 0.2em;padding-left: 0.2em;position: relative;}#sk-container-id-1 div.sk-item {position: relative;z-index: 1;}#sk-container-id-1 div.sk-parallel {display: flex;align-items: stretch;justify-content: center;background-color: white;position: relative;}#sk-container-id-1 div.sk-item::before, #sk-container-id-1 div.sk-parallel-item::before {content: \"\";position: absolute;border-left: 1px solid gray;box-sizing: border-box;top: 0;bottom: 0;left: 50%;z-index: -1;}#sk-container-id-1 div.sk-parallel-item {display: flex;flex-direction: column;z-index: 1;position: relative;background-color: white;}#sk-container-id-1 div.sk-parallel-item:first-child::after {align-self: flex-end;width: 50%;}#sk-container-id-1 div.sk-parallel-item:last-child::after {align-self: flex-start;width: 50%;}#sk-container-id-1 div.sk-parallel-item:only-child::after {width: 0;}#sk-container-id-1 div.sk-dashed-wrapped {border: 1px dashed gray;margin: 0 0.4em 0.5em 0.4em;box-sizing: border-box;padding-bottom: 0.4em;background-color: white;}#sk-container-id-1 div.sk-label label {font-family: monospace;font-weight: bold;display: inline-block;line-height: 1.2em;}#sk-container-id-1 div.sk-label-container {text-align: center;}#sk-container-id-1 div.sk-container {/* jupyter's `normalize.less` sets `[hidden] { display: none; }` but bootstrap.min.css set `[hidden] { display: none !important; }` so we also need the `!important` here to be able to override the default hidden behavior on the sphinx rendered scikit-learn.org. See: https://github.com/scikit-learn/scikit-learn/issues/21755 */display: inline-block !important;position: relative;}#sk-container-id-1 div.sk-text-repr-fallback {display: none;}</style><div id=\"sk-container-id-1\" class=\"sk-top-container\"><div class=\"sk-text-repr-fallback\"><pre>NearestNeighbors(algorithm=&#x27;brute&#x27;, metric=&#x27;cosine&#x27;)</pre><b>In a Jupyter environment, please rerun this cell to show the HTML representation or trust the notebook. <br />On GitHub, the HTML representation is unable to render, please try loading this page with nbviewer.org.</b></div><div class=\"sk-container\" hidden><div class=\"sk-item\"><div class=\"sk-estimator sk-toggleable\"><input class=\"sk-toggleable__control sk-hidden--visually\" id=\"sk-estimator-id-1\" type=\"checkbox\" checked><label for=\"sk-estimator-id-1\" class=\"sk-toggleable__label sk-toggleable__label-arrow\">NearestNeighbors</label><div class=\"sk-toggleable__content\"><pre>NearestNeighbors(algorithm=&#x27;brute&#x27;, metric=&#x27;cosine&#x27;)</pre></div></div></div></div></div>"
      ],
      "text/plain": [
       "NearestNeighbors(algorithm='brute', metric='cosine')"
      ]
     },
     "execution_count": 7,
     "metadata": {},
     "output_type": "execute_result"
    }
   ],
   "source": [
    "#Fill missing values with 0 - indicating no interaction\n",
    "user_recipe_matrix = user_ratings_aggregated.pivot(index='user_idx', columns='recipe_idx', values='rating').fillna(0)\n",
    "\n",
    "#Convert the matrix to a sparse format to save memory\n",
    "user_recipe_sparse = csr_matrix(user_recipe_matrix.values)\n",
    "\n",
    "#Fit the NearestNeighbors model using the sparse matrix\n",
    "model_knn = NearestNeighbors(metric='cosine', algorithm='brute')\n",
    "model_knn.fit(user_recipe_sparse)"
   ]
  },
  {
   "cell_type": "code",
   "execution_count": 8,
   "id": "c77b5596",
   "metadata": {},
   "outputs": [],
   "source": [
    "def recommend_recipes(user_idx, n_recommendations=5):\n",
    "    #Ensure user_idx is within bounds\n",
    "    if user_idx >= user_recipe_sparse.shape[0]:\n",
    "        raise IndexError(f\"user_idx {user_idx} is out of bounds for matrix with {user_recipe_sparse.shape[0]} users.\")\n",
    "    \n",
    "    #Use KNN to find similar users\n",
    "    distances, indices = model_knn.kneighbors(user_recipe_sparse[user_idx, :].toarray(), n_neighbors=n_recommendations+1)\n",
    "    \n",
    "    #Get similar user indices (excluding the user itself)\n",
    "    similar_users = indices.flatten()[1:]\n",
    "    \n",
    "    recommended_recipes = []\n",
    "    for similar_user in similar_users:\n",
    "        #Find non-zero recipe indices for similar users\n",
    "        recipe_indices = user_recipe_sparse[similar_user, :].nonzero()[1]\n",
    "        recommended_recipes.extend(recipe_indices)\n",
    "    \n",
    "    return recommended_recipes"
   ]
  },
  {
   "cell_type": "code",
   "execution_count": 9,
   "id": "abd2e302",
   "metadata": {},
   "outputs": [
    {
     "name": "stdout",
     "output_type": "stream",
     "text": [
      "Recommended recipes for user 203: [313, 277, 1637, 165, 277, 430, 433, 1087, 1753, 1961, 2597, 2703, 277, 453, 555, 736, 944, 1115, 1635, 1862, 2235, 2758, 3289, 277, 342, 698, 1239, 1255, 1368, 1463, 1953, 2305, 2490, 2612]\n"
     ]
    }
   ],
   "source": [
    "#Test recommendation\n",
    "try:\n",
    "    recommended = recommend_recipes(203, n_recommendations=5)\n",
    "    print(f\"Recommended recipes for user 203: {recommended}\")\n",
    "except IndexError as e:\n",
    "    print(e)"
   ]
  },
  {
   "cell_type": "code",
   "execution_count": 10,
   "id": "4809cdd5",
   "metadata": {},
   "outputs": [
    {
     "data": {
      "image/png": "[encoded data removed]",
      "text/plain": [
       "<Figure size 1000x600 with 1 Axes>"
      ]
     },
     "metadata": {},
     "output_type": "display_data"
    }
   ],
   "source": [
    "import seaborn as sns\n",
    "import matplotlib.pyplot as plt\n",
    "\n",
    "#Cap values at 300 minutes (5 hours), for example\n",
    "capped_recipe_data = recipe_data[recipe_data['minutes'] <= 300]\n",
    "\n",
    "#Visualize cooking time distribution\n",
    "plt.figure(figsize=(10, 6))\n",
    "sns.histplot(capped_recipe_data['minutes'], bins=30)\n",
    "plt.title(\"Cooking Time Distribution\")\n",
    "plt.xlabel(\"Minutes\")\n",
    "plt.ylabel(\"Number of Recipes\")\n",
    "plt.show()"
   ]
  },
  {
   "cell_type": "code",
   "execution_count": null,
   "id": "1fc34aa6",
   "metadata": {},
   "outputs": [],
   "source": []
  }
 ],
 "metadata": {
  "kernelspec": {
   "display_name": "Python 3 (ipykernel)",
   "language": "python",
   "name": "python3"
  },
  "language_info": {
   "codemirror_mode": {
    "name": "ipython",
    "version": 3
   },
   "file_extension": ".py",
   "mimetype": "text/x-python",
   "name": "python",
   "nbconvert_exporter": "python",
   "pygments_lexer": "ipython3",
   "version": "3.10.9"
  }
 },
 "nbformat": 4,
 "nbformat_minor": 5
}
